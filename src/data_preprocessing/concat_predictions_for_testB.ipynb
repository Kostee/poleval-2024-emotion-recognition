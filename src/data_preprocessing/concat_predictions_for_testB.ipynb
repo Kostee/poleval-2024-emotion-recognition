{
 "cells": [
  {
   "cell_type": "markdown",
   "metadata": {},
   "source": [
    "# Load Libraries"
   ]
  },
  {
   "cell_type": "code",
   "execution_count": 1,
   "metadata": {},
   "outputs": [],
   "source": [
    "import pandas as pd\n",
    "import os"
   ]
  },
  {
   "cell_type": "markdown",
   "metadata": {},
   "source": [
    "# Change the directory"
   ]
  },
  {
   "cell_type": "code",
   "execution_count": 2,
   "metadata": {},
   "outputs": [],
   "source": [
    "import os\n",
    "os.chdir(\"../../\")\n",
    "# from google.colab import drive\n",
    "# drive.mount('/content/drive/')\n",
    "# %cd drive/MyDrive/poleval_emotion/"
   ]
  },
  {
   "cell_type": "markdown",
   "metadata": {},
   "source": [
    "# Determine constants"
   ]
  },
  {
   "cell_type": "code",
   "execution_count": 3,
   "metadata": {},
   "outputs": [],
   "source": [
    "HFAM_PREFIX = 'hfam'\n",
    "LSTM_PREFIX = 'lstm'\n",
    "MODEL_NAMES = ['baseline', 'gpt_corr', 'prep_bas', 'prep_gpt']\n",
    "EMOTIONS = ['Joy', 'Trust', 'Anticipation', 'Surprise', 'Fear', 'Sadness',\n",
    "            'Disgust', 'Anger', 'Positive', 'Negative', 'Neutral']\n"
   ]
  },
  {
   "cell_type": "code",
   "execution_count": 4,
   "metadata": {},
   "outputs": [],
   "source": [
    "PREDICTIONS_PATH = 'predictions/testB/'\n",
    "OUTPUT_PATH = 'data/testB/concated_for_ensemble_final.csv'"
   ]
  },
  {
   "cell_type": "markdown",
   "metadata": {},
   "source": [
    "# Load the data"
   ]
  },
  {
   "cell_type": "code",
   "execution_count": 5,
   "metadata": {},
   "outputs": [],
   "source": [
    "dataframes = {}\n",
    "for model in MODEL_NAMES:\n",
    "    hfam_file_path = os.path.join(PREDICTIONS_PATH, f'{HFAM_PREFIX}_{model}.csv')\n",
    "    lstm_file_path = os.path.join(PREDICTIONS_PATH, f'{LSTM_PREFIX}_{model}.tsv')\n",
    "    \n",
    "    hfam_df = pd.read_csv(hfam_file_path)\n",
    "    lstm_df = pd.read_csv(lstm_file_path, header=None, names=[f'{model}_{emotion}' for emotion in EMOTIONS], sep='\\t')\n",
    "    \n",
    "    dataframes[model] = (hfam_df, lstm_df)"
   ]
  },
  {
   "cell_type": "markdown",
   "metadata": {},
   "source": [
    "# Concatenate the data"
   ]
  },
  {
   "cell_type": "code",
   "execution_count": 6,
   "metadata": {},
   "outputs": [],
   "source": [
    "final_df = pd.DataFrame()"
   ]
  },
  {
   "cell_type": "code",
   "execution_count": 7,
   "metadata": {},
   "outputs": [],
   "source": [
    "for model in MODEL_NAMES:\n",
    "    hfam_df, lstm_df = dataframes[model]\n",
    "    \n",
    "    hfam_df = hfam_df.drop(columns=['text'])\n",
    "    hfam_df = hfam_df.add_prefix(f'{model}_')\n",
    "    \n",
    "    if final_df.empty:\n",
    "        final_df = pd.concat([hfam_df, lstm_df], axis=1)\n",
    "    else:\n",
    "        final_df = pd.concat([final_df, hfam_df, lstm_df], axis=1)"
   ]
  },
  {
   "cell_type": "markdown",
   "metadata": {},
   "source": [
    "# Pre-processing"
   ]
  },
  {
   "cell_type": "markdown",
   "metadata": {},
   "source": [
    "### Perform encoding for \"Herbert_label\""
   ]
  },
  {
   "cell_type": "code",
   "execution_count": 8,
   "metadata": {},
   "outputs": [],
   "source": [
    "for col in final_df.columns:\n",
    "    if 'Herbert_label' in col:\n",
    "        final_df[col] = final_df[col].map({'LABEL_0': 0, 'LABEL_1': 1})"
   ]
  },
  {
   "cell_type": "markdown",
   "metadata": {},
   "source": [
    "### Perform One-Hot encoding for \"XLM-RoBERTa_label\""
   ]
  },
  {
   "cell_type": "code",
   "execution_count": 9,
   "metadata": {},
   "outputs": [],
   "source": [
    "xlm_roberta_cols = [col for col in final_df.columns if 'XLM-RoBERTa_label' in col]\n",
    "final_df = pd.get_dummies(final_df, columns=xlm_roberta_cols, prefix=xlm_roberta_cols)"
   ]
  },
  {
   "cell_type": "markdown",
   "metadata": {},
   "source": [
    "### Perform encoding for \"Multilingual BERT_label\""
   ]
  },
  {
   "cell_type": "code",
   "execution_count": 10,
   "metadata": {},
   "outputs": [],
   "source": [
    "for col in final_df.columns:\n",
    "    if 'Multilingual BERT_label' in col:\n",
    "        final_df[col] = final_df[col].map({'1 star': 0.0, '2 stars': 0.25, '3 stars': 0.5, '4 stars': 0.75, '5 stars': 1.0})"
   ]
  },
  {
   "cell_type": "markdown",
   "metadata": {},
   "source": [
    "### Change boolean values \"True\" / \"False\" just to 1 / 0"
   ]
  },
  {
   "cell_type": "code",
   "execution_count": 11,
   "metadata": {},
   "outputs": [],
   "source": [
    "bool_columns = final_df.select_dtypes(include=['bool']).columns\n",
    "for col in bool_columns:\n",
    "    final_df[col] = final_df[col].astype(int)"
   ]
  },
  {
   "cell_type": "markdown",
   "metadata": {},
   "source": [
    "### Standardize each column from 0 (min) to 1 (max)"
   ]
  },
  {
   "cell_type": "code",
   "execution_count": 12,
   "metadata": {},
   "outputs": [],
   "source": [
    "final_df = (final_df - final_df.min()) / (final_df.max() - final_df.min())"
   ]
  },
  {
   "cell_type": "markdown",
   "metadata": {},
   "source": [
    "# Save the final dataframe to a CSV file"
   ]
  },
  {
   "cell_type": "code",
   "execution_count": 13,
   "metadata": {},
   "outputs": [],
   "source": [
    "final_df.to_csv(OUTPUT_PATH, index=False)"
   ]
  },
  {
   "cell_type": "markdown",
   "metadata": {},
   "source": [
    "# Print the output table"
   ]
  },
  {
   "cell_type": "code",
   "execution_count": 14,
   "metadata": {},
   "outputs": [
    {
     "name": "stdout",
     "output_type": "stream",
     "text": [
      "   baseline_Herbert_label  baseline_Herbert_score  baseline_XLM-RoBERTa_score  \\\n",
      "0                     0.0                0.980108                    0.585627   \n",
      "1                     0.0                0.972357                    0.962053   \n",
      "2                     0.0                0.939091                    0.708443   \n",
      "3                     0.0                0.813600                    0.759773   \n",
      "4                     0.0                0.594430                    0.251097   \n",
      "\n",
      "   baseline_Multilingual BERT_label  baseline_Multilingual BERT_score  \\\n",
      "0                               1.0                          0.276559   \n",
      "1                               1.0                          0.327586   \n",
      "2                               1.0                          0.164487   \n",
      "3                               0.0                          0.240150   \n",
      "4                               0.0                          0.192480   \n",
      "\n",
      "   baseline_Joy  baseline_Trust  baseline_Anticipation  baseline_Surprise  \\\n",
      "0           0.0             0.0                    0.0                0.0   \n",
      "1           1.0             1.0                    0.0                0.0   \n",
      "2           0.0             0.0                    0.0                1.0   \n",
      "3           0.0             0.0                    0.0                0.0   \n",
      "4           1.0             0.0                    0.0                0.0   \n",
      "\n",
      "   baseline_Fear  ...  baseline_XLM-RoBERTa_label_positive  \\\n",
      "0            0.0  ...                                  0.0   \n",
      "1            0.0  ...                                  1.0   \n",
      "2            0.0  ...                                  0.0   \n",
      "3            1.0  ...                                  0.0   \n",
      "4            0.0  ...                                  0.0   \n",
      "\n",
      "   gpt_corr_XLM-RoBERTa_label_negative  gpt_corr_XLM-RoBERTa_label_neutral  \\\n",
      "0                                  1.0                                 0.0   \n",
      "1                                  0.0                                 0.0   \n",
      "2                                  1.0                                 0.0   \n",
      "3                                  1.0                                 0.0   \n",
      "4                                  0.0                                 1.0   \n",
      "\n",
      "   gpt_corr_XLM-RoBERTa_label_positive  prep_bas_XLM-RoBERTa_label_negative  \\\n",
      "0                                  0.0                                  1.0   \n",
      "1                                  1.0                                  0.0   \n",
      "2                                  0.0                                  1.0   \n",
      "3                                  0.0                                  1.0   \n",
      "4                                  0.0                                  0.0   \n",
      "\n",
      "   prep_bas_XLM-RoBERTa_label_neutral  prep_bas_XLM-RoBERTa_label_positive  \\\n",
      "0                                 0.0                                  0.0   \n",
      "1                                 0.0                                  1.0   \n",
      "2                                 0.0                                  0.0   \n",
      "3                                 0.0                                  0.0   \n",
      "4                                 1.0                                  0.0   \n",
      "\n",
      "   prep_gpt_XLM-RoBERTa_label_negative  prep_gpt_XLM-RoBERTa_label_neutral  \\\n",
      "0                                  1.0                                 0.0   \n",
      "1                                  0.0                                 0.0   \n",
      "2                                  1.0                                 0.0   \n",
      "3                                  1.0                                 0.0   \n",
      "4                                  0.0                                 1.0   \n",
      "\n",
      "   prep_gpt_XLM-RoBERTa_label_positive  \n",
      "0                                  0.0  \n",
      "1                                  1.0  \n",
      "2                                  0.0  \n",
      "3                                  0.0  \n",
      "4                                  0.0  \n",
      "\n",
      "[5 rows x 76 columns]\n"
     ]
    }
   ],
   "source": [
    "print(final_df.head())"
   ]
  },
  {
   "cell_type": "code",
   "execution_count": 15,
   "metadata": {},
   "outputs": [
    {
     "name": "stdout",
     "output_type": "stream",
     "text": [
      "       baseline_Herbert_label  baseline_Herbert_score  \\\n",
      "count             1431.000000             1431.000000   \n",
      "mean                 0.004193                0.866725   \n",
      "std                  0.064639                0.146855   \n",
      "min                  0.000000                0.000000   \n",
      "25%                  0.000000                0.853903   \n",
      "50%                  0.000000                0.928155   \n",
      "75%                  0.000000                0.958210   \n",
      "max                  1.000000                1.000000   \n",
      "\n",
      "       baseline_XLM-RoBERTa_score  baseline_Multilingual BERT_label  \\\n",
      "count                 1431.000000                       1431.000000   \n",
      "mean                     0.717809                          0.459119   \n",
      "std                      0.284760                          0.375712   \n",
      "min                      0.000000                          0.000000   \n",
      "25%                      0.485921                          0.000000   \n",
      "50%                      0.853569                          0.500000   \n",
      "75%                      0.956571                          0.750000   \n",
      "max                      1.000000                          1.000000   \n",
      "\n",
      "       baseline_Multilingual BERT_score  baseline_Joy  baseline_Trust  \\\n",
      "count                       1431.000000   1431.000000     1431.000000   \n",
      "mean                           0.288133      0.491964        0.142558   \n",
      "std                            0.167111      0.500110        0.349743   \n",
      "min                            0.000000      0.000000        0.000000   \n",
      "25%                            0.192480      0.000000        0.000000   \n",
      "50%                            0.251745      0.000000        0.000000   \n",
      "75%                            0.364909      1.000000        0.000000   \n",
      "max                            1.000000      1.000000        1.000000   \n",
      "\n",
      "       baseline_Anticipation  baseline_Surprise  baseline_Fear  ...  \\\n",
      "count            1431.000000        1431.000000    1431.000000  ...   \n",
      "mean                0.089448           0.070580       0.030049  ...   \n",
      "std                 0.285489           0.256212       0.170782  ...   \n",
      "min                 0.000000           0.000000       0.000000  ...   \n",
      "25%                 0.000000           0.000000       0.000000  ...   \n",
      "50%                 0.000000           0.000000       0.000000  ...   \n",
      "75%                 0.000000           0.000000       0.000000  ...   \n",
      "max                 1.000000           1.000000       1.000000  ...   \n",
      "\n",
      "       baseline_XLM-RoBERTa_label_positive  \\\n",
      "count                          1431.000000   \n",
      "mean                              0.329140   \n",
      "std                               0.470065   \n",
      "min                               0.000000   \n",
      "25%                               0.000000   \n",
      "50%                               0.000000   \n",
      "75%                               1.000000   \n",
      "max                               1.000000   \n",
      "\n",
      "       gpt_corr_XLM-RoBERTa_label_negative  \\\n",
      "count                          1431.000000   \n",
      "mean                              0.220825   \n",
      "std                               0.414947   \n",
      "min                               0.000000   \n",
      "25%                               0.000000   \n",
      "50%                               0.000000   \n",
      "75%                               0.000000   \n",
      "max                               1.000000   \n",
      "\n",
      "       gpt_corr_XLM-RoBERTa_label_neutral  \\\n",
      "count                         1431.000000   \n",
      "mean                             0.426275   \n",
      "std                              0.494708   \n",
      "min                              0.000000   \n",
      "25%                              0.000000   \n",
      "50%                              0.000000   \n",
      "75%                              1.000000   \n",
      "max                              1.000000   \n",
      "\n",
      "       gpt_corr_XLM-RoBERTa_label_positive  \\\n",
      "count                          1431.000000   \n",
      "mean                              0.352900   \n",
      "std                               0.478039   \n",
      "min                               0.000000   \n",
      "25%                               0.000000   \n",
      "50%                               0.000000   \n",
      "75%                               1.000000   \n",
      "max                               1.000000   \n",
      "\n",
      "       prep_bas_XLM-RoBERTa_label_negative  \\\n",
      "count                          1431.000000   \n",
      "mean                              0.219427   \n",
      "std                               0.414003   \n",
      "min                               0.000000   \n",
      "25%                               0.000000   \n",
      "50%                               0.000000   \n",
      "75%                               0.000000   \n",
      "max                               1.000000   \n",
      "\n",
      "       prep_bas_XLM-RoBERTa_label_neutral  \\\n",
      "count                         1431.000000   \n",
      "mean                             0.491964   \n",
      "std                              0.500110   \n",
      "min                              0.000000   \n",
      "25%                              0.000000   \n",
      "50%                              0.000000   \n",
      "75%                              1.000000   \n",
      "max                              1.000000   \n",
      "\n",
      "       prep_bas_XLM-RoBERTa_label_positive  \\\n",
      "count                          1431.000000   \n",
      "mean                              0.288609   \n",
      "std                               0.453274   \n",
      "min                               0.000000   \n",
      "25%                               0.000000   \n",
      "50%                               0.000000   \n",
      "75%                               1.000000   \n",
      "max                               1.000000   \n",
      "\n",
      "       prep_gpt_XLM-RoBERTa_label_negative  \\\n",
      "count                          1431.000000   \n",
      "mean                              0.218029   \n",
      "std                               0.413052   \n",
      "min                               0.000000   \n",
      "25%                               0.000000   \n",
      "50%                               0.000000   \n",
      "75%                               0.000000   \n",
      "max                               1.000000   \n",
      "\n",
      "       prep_gpt_XLM-RoBERTa_label_neutral  prep_gpt_XLM-RoBERTa_label_positive  \n",
      "count                         1431.000000                          1431.000000  \n",
      "mean                             0.480084                             0.301887  \n",
      "std                              0.499778                             0.459237  \n",
      "min                              0.000000                             0.000000  \n",
      "25%                              0.000000                             0.000000  \n",
      "50%                              0.000000                             0.000000  \n",
      "75%                              1.000000                             1.000000  \n",
      "max                              1.000000                             1.000000  \n",
      "\n",
      "[8 rows x 76 columns]\n"
     ]
    }
   ],
   "source": [
    "print(final_df.describe())"
   ]
  }
 ],
 "metadata": {
  "kernelspec": {
   "display_name": "Python 3",
   "language": "python",
   "name": "python3"
  },
  "language_info": {
   "codemirror_mode": {
    "name": "ipython",
    "version": 3
   },
   "file_extension": ".py",
   "mimetype": "text/x-python",
   "name": "python",
   "nbconvert_exporter": "python",
   "pygments_lexer": "ipython3",
   "version": "3.10.11"
  }
 },
 "nbformat": 4,
 "nbformat_minor": 2
}
